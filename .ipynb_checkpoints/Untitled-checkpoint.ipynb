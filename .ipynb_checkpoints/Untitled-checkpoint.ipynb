{
 "cells": [
  {
   "cell_type": "code",
   "execution_count": 1,
   "id": "e100c3e4",
   "metadata": {},
   "outputs": [
    {
     "name": "stdout",
     "output_type": "stream",
     "text": [
      "<prompt>\n",
      "  <example>\n",
      "    <input>\n",
      "black blue red green yellow\n",
      "grey pink orange azure brown\n",
      "black blue yellow red yellow\n",
      "green grey black orange azure\n",
      "brown red yellow blue yellow\n",
      "    </input>\n",
      "    <output>\n",
      "black blue red green yellow\n",
      "grey pink orange azure brown\n",
      "black blue yellow red yellow\n",
      "green grey black orange azure\n",
      "brown red yellow blue yellow\n",
      "    </output>\n",
      "  </example>\n",
      "</prompt>\n"
     ]
    }
   ],
   "source": [
    "import json\n",
    "\n",
    "def matrix_to_color(value):\n",
    "    colors = [\"black\", \"blue\", \"red\", \"green\", \"yellow\", \"grey\", \"pink\", \"orange\", \"azure\", \"brown\"]\n",
    "    if 0 <= value < len(colors):\n",
    "        return colors[value]\n",
    "    return f\"unknown_{value}\"\n",
    "\n",
    "def format_matrices(json_data):\n",
    "    data = json.loads(json_data)\n",
    "    \n",
    "    def format_matrix(matrix):\n",
    "        return \"\\n\".join(\" \".join(matrix_to_color(cell) for cell in row) for row in matrix)\n",
    "    \n",
    "    input_formatted = format_matrix(data[\"input\"])\n",
    "    output_formatted = format_matrix(data[\"output\"])\n",
    "    \n",
    "    xml_structure = f\"\"\"<prompt>\n",
    "  <example><input>{input_formatted}</input><output>{output_formatted}\n",
    "    </output>\n",
    "  </example>\n",
    "</prompt>\"\"\"\n",
    "    \n",
    "    return xml_structure\n",
    "\n",
    "# Example usage\n",
    "json_data = '''\n",
    "{\n",
    "  \"input\": [\n",
    "    [0, 1, 2, 3, 4],\n",
    "    [5, 6, 7, 8, 9],\n",
    "    [0, 1, 4, 2, 4],\n",
    "    [3, 5, 0, 7, 8],\n",
    "    [9, 2, 4, 1, 4]\n",
    "  ],\n",
    "  \"output\": [\n",
    "    [0, 1, 2, 3, 4],\n",
    "    [5, 6, 7, 8, 9],\n",
    "    [0, 1, 4, 2, 4],\n",
    "    [3, 5, 0, 7, 8],\n",
    "    [9, 2, 4, 1, 4]\n",
    "  ]\n",
    "}\n",
    "'''\n",
    "\n",
    "formatted_output = format_matrices(json_data)\n",
    "print(formatted_output)"
   ]
  },
  {
   "cell_type": "code",
   "execution_count": null,
   "id": "a75dd5dd",
   "metadata": {},
   "outputs": [],
   "source": []
  }
 ],
 "metadata": {
  "kernelspec": {
   "display_name": "python311",
   "language": "python",
   "name": "python311"
  },
  "language_info": {
   "codemirror_mode": {
    "name": "ipython",
    "version": 3
   },
   "file_extension": ".py",
   "mimetype": "text/x-python",
   "name": "python",
   "nbconvert_exporter": "python",
   "pygments_lexer": "ipython3",
   "version": "3.10.4"
  }
 },
 "nbformat": 4,
 "nbformat_minor": 5
}
