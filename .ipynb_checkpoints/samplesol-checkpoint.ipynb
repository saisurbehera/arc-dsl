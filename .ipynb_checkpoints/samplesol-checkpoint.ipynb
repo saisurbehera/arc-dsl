{
 "cells": [
  {
   "cell_type": "code",
   "execution_count": null,
   "id": "03edfdf8",
   "metadata": {},
   "outputs": [],
   "source": [
    "!ls"
   ]
  },
  {
   "cell_type": "code",
   "execution_count": null,
   "id": "134f2997",
   "metadata": {},
   "outputs": [],
   "source": [
    "from solvers import *\n",
    "import random"
   ]
  },
  {
   "cell_type": "code",
   "execution_count": null,
   "id": "a5333eec",
   "metadata": {},
   "outputs": [],
   "source": [
    "symbols_before = dir()\n",
    "from solvers import *\n",
    "symbols_after = dir()\n",
    "imported_symbols = [s for s in symbols_after if not s in symbols_before]"
   ]
  },
  {
   "cell_type": "code",
   "execution_count": null,
   "id": "fe089373",
   "metadata": {},
   "outputs": [],
   "source": [
    "imported_symbols"
   ]
  },
  {
   "cell_type": "code",
   "execution_count": null,
   "id": "beb18c8a",
   "metadata": {},
   "outputs": [],
   "source": [
    "all_solutions = [i for i in symbols_before if \"solve_\" in i]"
   ]
  },
  {
   "cell_type": "code",
   "execution_count": null,
   "id": "3868659b",
   "metadata": {},
   "outputs": [],
   "source": [
    "# len(all_solutions)"
   ]
  },
  {
   "cell_type": "code",
   "execution_count": null,
   "id": "89ffe70e",
   "metadata": {},
   "outputs": [],
   "source": [
    "from glob import glob\n",
    "import json \n",
    "import numpy as np\n",
    "\n",
    "def read_all_data(file_loc):\n",
    "    with open(file_loc , \"r\") as f:\n",
    "        return json.loads(f.read())\n",
    "    \n",
    "all_files_loc = glob(\"data/training/*\")\n",
    "training_json = [read_all_data(i) for i in all_files_loc ]"
   ]
  },
  {
   "cell_type": "code",
   "execution_count": null,
   "id": "19591d3a",
   "metadata": {},
   "outputs": [],
   "source": [
    "[i for i in all_files_loc if \"9edfc990\" in i]"
   ]
  },
  {
   "cell_type": "code",
   "execution_count": null,
   "id": "1e94bf47",
   "metadata": {},
   "outputs": [],
   "source": [
    "all_files_loc.index(\"data/training/9edfc990.json\")"
   ]
  },
  {
   "cell_type": "code",
   "execution_count": null,
   "id": "87457650",
   "metadata": {},
   "outputs": [],
   "source": [
    "x = training_json[325][\"train\"][0][\"input\"]"
   ]
  },
  {
   "cell_type": "code",
   "execution_count": null,
   "id": "e6dacabd",
   "metadata": {},
   "outputs": [],
   "source": [
    "all_possible_matrices_train = [tuple([tuple(row) for row in k]) for each in training_json for i in each.values() for j in i if type(j) ==dict for k in j.values()]"
   ]
  },
  {
   "cell_type": "code",
   "execution_count": null,
   "id": "9cc79173",
   "metadata": {},
   "outputs": [],
   "source": [
    "len(all_possible_matrices_train)"
   ]
  },
  {
   "cell_type": "code",
   "execution_count": null,
   "id": "eda6b230",
   "metadata": {},
   "outputs": [],
   "source": [
    "all_possible_matrices_train[0]"
   ]
  },
  {
   "cell_type": "code",
   "execution_count": null,
   "id": "bf10f15c",
   "metadata": {},
   "outputs": [],
   "source": []
  },
  {
   "cell_type": "code",
   "execution_count": null,
   "id": "9998eda9",
   "metadata": {},
   "outputs": [],
   "source": [
    "# function_name, args"
   ]
  },
  {
   "cell_type": "code",
   "execution_count": null,
   "id": "50701b31",
   "metadata": {},
   "outputs": [],
   "source": [
    "x = tuple([ tuple(i) for i in x])"
   ]
  },
  {
   "cell_type": "code",
   "execution_count": null,
   "id": "0ed17802",
   "metadata": {},
   "outputs": [],
   "source": [
    "solve_9edfc990(x)"
   ]
  },
  {
   "cell_type": "code",
   "execution_count": null,
   "id": "1690647d",
   "metadata": {},
   "outputs": [],
   "source": [
    "# 20,000"
   ]
  },
  {
   "cell_type": "code",
   "execution_count": null,
   "id": "7fe5c6dd",
   "metadata": {},
   "outputs": [],
   "source": [
    "# samples = []\n",
    "# from tqdm import tqdm \n",
    "# for _ in tqdm(range(50000)):\n",
    "#         args = random.choice(all_possible_matrices_train)\n",
    "#         function_name = random.choice(all_solutions)\n",
    "#         try:\n",
    "#             result = globals()[function_name](args)\n",
    "#             samples.append((function_name,args))\n",
    "#         except:\n",
    "#             pass"
   ]
  },
  {
   "cell_type": "code",
   "execution_count": null,
   "id": "1df1338f",
   "metadata": {},
   "outputs": [],
   "source": [
    "def do_work(i):\n",
    "    args = random.choice(all_possible_matrices_train)\n",
    "    function_name = random.choice(all_solutions)\n",
    "    try:\n",
    "        result = globals()[function_name](args)\n",
    "        return (function_name,args)\n",
    "    except:\n",
    "        return None"
   ]
  },
  {
   "cell_type": "code",
   "execution_count": null,
   "id": "b37f0fbf",
   "metadata": {},
   "outputs": [],
   "source": [
    "do_work(232)"
   ]
  },
  {
   "cell_type": "code",
   "execution_count": null,
   "id": "088b14b8",
   "metadata": {},
   "outputs": [],
   "source": [
    "from multiprocessing import Pool\n",
    "import tqdm\n",
    "\n",
    "pool = Pool(processes=3)\n",
    "result = []\n",
    "\n",
    "pool.map(do_work,list()"
   ]
  },
  {
   "cell_type": "code",
   "execution_count": null,
   "id": "cd929f3d",
   "metadata": {},
   "outputs": [],
   "source": [
    "\n",
    "\n",
    "# def main():\n",
    "#     pool = Pool(processes=3)\n",
    "#     result = []\n",
    "\n",
    "#     for x in tqdm.tqdm(pool.imap_unordered(do_work, list(range(100))), total=len(range(100))):\n",
    "#         if x is not None:\n",
    "#             result.append(x)\n"
   ]
  },
  {
   "cell_type": "code",
   "execution_count": null,
   "id": "05717a32",
   "metadata": {},
   "outputs": [],
   "source": [
    "from random import random\n",
    "from time import sleep\n",
    "from multiprocessing.pool import Pool\n",
    " \n",
    "# task executed in a worker process\n",
    "def task(identifier):\n",
    "    # generate a value\n",
    "    value = random()\n",
    "    # report a message\n",
    "    print(f'Task {identifier} executing with {value}', flush=True)\n",
    "    # block for a moment\n",
    "    sleep(value)\n",
    "    # return the generated value\n",
    "    return value\n",
    " \n",
    "# protect the entry point\n",
    "if __name__ == '__main__':\n",
    "    # create and configure the process pool\n",
    "    with Pool() as pool:\n",
    "        # execute tasks in order\n",
    "        for result in pool.map(task, range(10)):\n",
    "            print(f'Got result: {result}', flush=True)\n",
    "    # process pool is closed automatically"
   ]
  },
  {
   "cell_type": "code",
   "execution_count": null,
   "id": "e5cc8789",
   "metadata": {},
   "outputs": [],
   "source": [
    "from multiprocessing import Pool\n",
    "import tqdm\n",
    "\n",
    "pool = Pool(processes=3)\n",
    "result = []\n",
    "for x in tqdm.tqdm(pool.imap_unordered(do_work, range(100)), total=len(range(100))):\n",
    "    if x is None:\n",
    "        result.append(x)"
   ]
  },
  {
   "cell_type": "code",
   "execution_count": null,
   "id": "d0b9ce97",
   "metadata": {},
   "outputs": [],
   "source": [
    "result = globals()[function_name](args)"
   ]
  },
  {
   "cell_type": "code",
   "execution_count": null,
   "id": "a1c5226a",
   "metadata": {},
   "outputs": [],
   "source": [
    "result"
   ]
  },
  {
   "cell_type": "code",
   "execution_count": null,
   "id": "4d358db8",
   "metadata": {},
   "outputs": [],
   "source": []
  }
 ],
 "metadata": {
  "kernelspec": {
   "display_name": "python311",
   "language": "python",
   "name": "python311"
  },
  "language_info": {
   "codemirror_mode": {
    "name": "ipython",
    "version": 3
   },
   "file_extension": ".py",
   "mimetype": "text/x-python",
   "name": "python",
   "nbconvert_exporter": "python",
   "pygments_lexer": "ipython3",
   "version": "3.10.4"
  }
 },
 "nbformat": 4,
 "nbformat_minor": 5
}
