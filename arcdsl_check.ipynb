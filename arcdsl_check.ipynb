{
 "cells": [
  {
   "cell_type": "code",
   "execution_count": 1,
   "metadata": {},
   "outputs": [
    {
     "name": "stdout",
     "output_type": "stream",
     "text": [
      "Collecting astpretty\n",
      "  Using cached astpretty-3.0.0-py2.py3-none-any.whl.metadata (5.5 kB)\n",
      "Using cached astpretty-3.0.0-py2.py3-none-any.whl (4.9 kB)\n",
      "Installing collected packages: astpretty\n",
      "Successfully installed astpretty-3.0.0\n"
     ]
    }
   ],
   "source": [
    "!pip install astpretty"
   ]
  },
  {
   "cell_type": "code",
   "execution_count": 2,
   "metadata": {},
   "outputs": [
    {
     "name": "stdout",
     "output_type": "stream",
     "text": [
      "evaluation  training\n"
     ]
    }
   ],
   "source": [
    "!ls data"
   ]
  },
  {
   "cell_type": "code",
   "execution_count": 3,
   "metadata": {},
   "outputs": [],
   "source": [
    "import numpy as np\n",
    "from functools import reduce\n",
    "from collections import namedtuple\n",
    "from typing import List, Tuple, Union,Dict\n",
    "import json\n",
    "import re\n",
    "\n",
    "MAXSIDE = 100\n",
    "MAXAREA = 40 * 40\n",
    "MAXPIXELS = 40 * 40 * 5\n",
    "\n",
    "import sys\n",
    "import os\n",
    "\n",
    "sys.path.append(os.path.abspath(\"/Users/saisur/Desktop/projects/arc/arcsol/arc-dsl\"))\n",
    "\n",
    "\n",
    "from dsl import *\n",
    "from solvers import *"
   ]
  },
  {
   "cell_type": "code",
   "execution_count": 15,
   "metadata": {},
   "outputs": [],
   "source": [
    "# sys.path.append(os.path.abspath(os.path.join('/Users/saisur/Desktop/projects/arc/arclang/src/arclang')))\n",
    "# sys.path.append(os.path.abspath(os.path.join('/Users/saisur/Desktop/projects/arc/arclang/src/')))\n",
    "\n",
    "# from image import Image, Point\n",
    "# from function import *"
   ]
  },
  {
   "cell_type": "code",
   "execution_count": null,
   "metadata": {},
   "outputs": [],
   "source": []
  },
  {
   "cell_type": "code",
   "execution_count": 16,
   "metadata": {},
   "outputs": [],
   "source": [
    "path = \"data/training/e6721834.json\"\n",
    "with open(path,\"r\") as f:\n",
    "    data_ce9 = json.loads(f.read())\n",
    "img_mask = data_ce9[\"train\"][0][\"input\"]\n",
    "# img_mask = np.array(img_mask)\n",
    "# m,n = img_mask.shape\n",
    "# input_img= Image(0,0,n,m,img_mask)\n",
    "# display_matrix(input_img)"
   ]
  },
  {
   "cell_type": "code",
   "execution_count": 17,
   "metadata": {},
   "outputs": [],
   "source": [
    "img = tuple([tuple(i) for i in img_mask])"
   ]
  },
  {
   "cell_type": "code",
   "execution_count": 18,
   "metadata": {},
   "outputs": [],
   "source": [
    "import ast\n",
    "from typing import Any, List\n",
    "\n",
    "class Node:\n",
    "    def __init__(self, node_type: str, value: Any = None, children: List['Node'] = None):\n",
    "        self.node_type = node_type\n",
    "        self.value = value\n",
    "        self.children = children or []\n",
    "\n",
    "    def __repr__(self):\n",
    "        return f\"Node(type={self.node_type}, value={self.value}, children={self.children})\"\n",
    "\n",
    "    def format(self, indent=0):\n",
    "        indent_str = '    ' * indent\n",
    "        result = f\"{indent_str}Node(type={self.node_type}\"\n",
    "        \n",
    "        if self.value is not None:\n",
    "            result += f\", value={self.value}\"\n",
    "        \n",
    "        if self.children:\n",
    "            result += \", children=[\\n\"\n",
    "            for child in self.children:\n",
    "                result += child.format(indent + 1) + \",\\n\"\n",
    "            result += f\"{indent_str}]\"\n",
    "        else:\n",
    "            result += \", children=[]\"\n",
    "        \n",
    "        result += \")\"\n",
    "        return result\n",
    "\n",
    "class CustomASTVisitor(ast.NodeVisitor):\n",
    "    def generic_visit(self, node):\n",
    "        node_type = type(node).__name__\n",
    "        children = []\n",
    "        value = None\n",
    "\n",
    "        for field, value in ast.iter_fields(node):\n",
    "            if isinstance(value, ast.AST):\n",
    "                children.append(self.visit(value))\n",
    "            elif isinstance(value, list):\n",
    "                for item in value:\n",
    "                    if isinstance(item, ast.AST):\n",
    "                        children.append(self.visit(item))\n",
    "\n",
    "        if hasattr(node, 'id'):\n",
    "            value = node.id\n",
    "        elif hasattr(node, 'name'):\n",
    "            value = node.name\n",
    "        elif hasattr(node, 'arg'):\n",
    "            value = node.arg\n",
    "        elif isinstance(node, ast.Str):\n",
    "            value = node.s\n",
    "        elif isinstance(node, ast.Num):\n",
    "            value = node.n\n",
    "\n",
    "        return Node(node_type, value, children)\n",
    "\n",
    "def generate_custom_ast(code: str) -> Node:\n",
    "    tree = ast.parse(code)\n",
    "    visitor = CustomASTVisitor()\n",
    "    return visitor.visit(tree)\n",
    "\n"
   ]
  },
  {
   "cell_type": "code",
   "execution_count": 19,
   "metadata": {},
   "outputs": [
    {
     "name": "stdout",
     "output_type": "stream",
     "text": [
      "Node(type=ROOT, children=[\n",
      "    Node(type=FUNCTION_DEF, value={'name': 'vperiod', 'params': ['obj'], 'return_type': 'Integer', 'docstring': 'vertical periodicity '}, children=[\n",
      "        Node(type=ASSIGN, value={'variable': 'normalized', 'expression': Node(type=FUNCTION, value={'name': 'normalize', 'args': ['obj']}, children=[])}, children=[]),\n",
      "        Node(type=ASSIGN, value={'variable': 'h', 'expression': Node(type=FUNCTION, value={'name': 'height', 'args': ['normalized']}, children=[])}, children=[]),\n",
      "        Node(type=FOR, value={'target': 'p', 'iter': Node(type=FUNCTION, value={'name': 'range', 'args': [1, 'h']}, children=[])}, children=[\n",
      "            Node(type=ASSIGN, value={'variable': 'offsetted', 'expression': Node(type=FUNCTION, value={'name': 'shift', 'args': ['normalized', ('UnaryOp', 0)]}, children=[])}, children=[]),\n",
      "            Node(type=ASSIGN, value={'variable': 'pruned', 'expression': Node(type=FUNCTION, value={'name': 'frozenset', 'args': ['SetComp']}, children=[])}, children=[]),\n",
      "            Node(type=IF, value={'test': Node(type=FUNCTION, value={'name': 'Attribute', 'args': ['normalized']}, children=[])}, children=[\n",
      "                Node(type=RETURN, value=p, children=[]),\n",
      "            ]),\n",
      "        ]),\n",
      "        Node(type=RETURN, value=h, children=[]),\n",
      "    ]),\n",
      "])\n"
     ]
    },
    {
     "name": "stderr",
     "output_type": "stream",
     "text": [
      "/tmp/ipykernel_23563/3593118287.py:36: DeprecationWarning: ast.Str is deprecated and will be removed in Python 3.14; use ast.Constant instead\n",
      "  body = [self.visit(n) for n in node.body if not isinstance(n, ast.Expr) or not isinstance(n.value, ast.Str)]\n",
      "/tmp/ipykernel_23563/3593118287.py:58: DeprecationWarning: Attribute n is deprecated and will be removed in Python 3.14; use value instead\n",
      "  return node.n\n"
     ]
    }
   ],
   "source": [
    "import ast\n",
    "from typing import Any, List, Union\n",
    "\n",
    "class Node:\n",
    "    def __init__(self, node_type: str, value: Any = None, children: List['Node'] = None):\n",
    "        self.node_type = node_type\n",
    "        self.value = value\n",
    "        self.children = children or []\n",
    "\n",
    "    def __repr__(self):\n",
    "        return f\"Node(type={self.node_type}, value={self.value}, children={self.children})\"\n",
    "\n",
    "    def format(self, indent=0):\n",
    "        indent_str = '    ' * indent\n",
    "        result = f\"{indent_str}Node(type={self.node_type}\"\n",
    "        \n",
    "        if self.value is not None:\n",
    "            result += f\", value={self.value}\"\n",
    "        \n",
    "        if self.children:\n",
    "            result += \", children=[\\n\"\n",
    "            for child in self.children:\n",
    "                result += child.format(indent + 1) + \",\\n\"\n",
    "            result += f\"{indent_str}]\"\n",
    "        else:\n",
    "            result += \", children=[]\"\n",
    "        \n",
    "        result += \")\"\n",
    "        return result\n",
    "\n",
    "class CustomASTVisitor(ast.NodeVisitor):\n",
    "    def visit_FunctionDef(self, node):\n",
    "        params = [arg.arg for arg in node.args.args]\n",
    "        return_type = self.visit(node.returns) if node.returns else None\n",
    "        docstring = ast.get_docstring(node)\n",
    "        body = [self.visit(n) for n in node.body if not isinstance(n, ast.Expr) or not isinstance(n.value, ast.Str)]\n",
    "        return Node(\"FUNCTION_DEF\", value={\n",
    "            'name': node.name,\n",
    "            'params': params,\n",
    "            'return_type': return_type,\n",
    "            'docstring': docstring\n",
    "        }, children=body)\n",
    "\n",
    "    def visit_Assign(self, node):\n",
    "        target = node.targets[0].id if isinstance(node.targets[0], ast.Name) else self.visit(node.targets[0])\n",
    "        value = self.visit(node.value)\n",
    "        return Node(\"ASSIGN\", value={'variable': target, 'expression': value})\n",
    "\n",
    "    def visit_Call(self, node):\n",
    "        func_name = node.func.id if isinstance(node.func, ast.Name) else self.visit(node.func)\n",
    "        args = [self.visit(arg) for arg in node.args]\n",
    "        return Node(\"FUNCTION\", value={'name': func_name, 'args': args})\n",
    "\n",
    "    def visit_Name(self, node):\n",
    "        return node.id\n",
    "\n",
    "    def visit_Num(self, node):\n",
    "        return node.n\n",
    "\n",
    "    def visit_Str(self, node):\n",
    "        return node.s\n",
    "\n",
    "    def visit_List(self, node):\n",
    "        return [self.visit(elt) for elt in node.elts]\n",
    "\n",
    "    def visit_Tuple(self, node):\n",
    "        return tuple(self.visit(elt) for elt in node.elts)\n",
    "\n",
    "    def visit_Set(self, node):\n",
    "        return {self.visit(elt) for elt in node.elts}\n",
    "\n",
    "    def visit_Dict(self, node):\n",
    "        return {self.visit(k): self.visit(v) for k, v in zip(node.keys, node.values)}\n",
    "\n",
    "    def visit_BinOp(self, node):\n",
    "        left = self.visit(node.left)\n",
    "        right = self.visit(node.right)\n",
    "        op = type(node.op).__name__\n",
    "        return f\"{left} {op} {right}\"\n",
    "\n",
    "    def visit_Compare(self, node):\n",
    "        left = self.visit(node.left)\n",
    "        ops = [type(op).__name__ for op in node.ops]\n",
    "        comparators = [self.visit(c) for c in node.comparators]\n",
    "        return f\"{left} {' '.join(f'{op} {comp}' for op, comp in zip(ops, comparators))}\"\n",
    "\n",
    "    def visit_For(self, node):\n",
    "        target = self.visit(node.target)\n",
    "        iter = self.visit(node.iter)\n",
    "        body = [self.visit(n) for n in node.body]\n",
    "        return Node(\"FOR\", value={'target': target, 'iter': iter}, children=body)\n",
    "\n",
    "    def visit_If(self, node):\n",
    "        test = self.visit(node.test)\n",
    "        body = [self.visit(n) for n in node.body]\n",
    "        orelse = [self.visit(n) for n in node.orelse] if node.orelse else None\n",
    "        return Node(\"IF\", value={'test': test}, children=body + (orelse or []))\n",
    "\n",
    "    def visit_Return(self, node):\n",
    "        value = self.visit(node.value) if node.value else None\n",
    "        return Node(\"RETURN\", value=value)\n",
    "\n",
    "    def generic_visit(self, node):\n",
    "        return type(node).__name__\n",
    "\n",
    "def parse_code(code: str) -> Node:\n",
    "    tree = ast.parse(code)\n",
    "    visitor = CustomASTVisitor()\n",
    "    return Node(\"ROOT\", children=[visitor.visit(node) for node in tree.body])\n",
    "\n",
    "# Example usage\n",
    "txt = '''def vperiod(\n",
    "    obj: Object\n",
    ") -> Integer:\n",
    "    \"\"\" vertical periodicity \"\"\"\n",
    "    normalized = normalize(obj)\n",
    "    h = height(normalized)\n",
    "    for p in range(1, h):\n",
    "        offsetted = shift(normalized, (-p, 0))\n",
    "        pruned = frozenset({(c, (i, j)) for c, (i, j) in offsetted if i >= 0})\n",
    "        if pruned.issubset(normalized): \n",
    "            return p\n",
    "    return h'''\n",
    "\n",
    "ast = parse_code(txt)\n",
    "print(ast.format())"
   ]
  },
  {
   "cell_type": "code",
   "execution_count": 20,
   "metadata": {},
   "outputs": [
    {
     "data": {
      "text/plain": [
       "'def vperiod(\\n    obj: Object\\n) -> Integer:\\n    \"\"\" vertical periodicity \"\"\"\\n    normalized = normalize(obj)\\n    h = height(normalized)\\n    for p in range(1, h):\\n        offsetted = shift(normalized, (-p, 0))\\n        pruned = frozenset({(c, (i, j)) for c, (i, j) in offsetted if i >= 0})\\n        if pruned.issubset(normalized):\\n            return p\\n    return h'"
      ]
     },
     "execution_count": 20,
     "metadata": {},
     "output_type": "execute_result"
    }
   ],
   "source": [
    "txt"
   ]
  },
  {
   "cell_type": "code",
   "execution_count": 22,
   "metadata": {},
   "outputs": [],
   "source": [
    "# custom_ast = parse_code(txt)\n",
    "\n",
    "# # Print the formatted custom AST\n",
    "# print(custom_ast.format())"
   ]
  },
  {
   "cell_type": "code",
   "execution_count": 23,
   "metadata": {},
   "outputs": [
    {
     "data": {
      "text/plain": [
       "((0, 0, 0, 0, 0, 0, 0, 0, 0, 0, 0, 0, 0, 0, 0, 0, 0),\n",
       " (0, 0, 0, 0, 0, 0, 0, 0, 1, 1, 1, 2, 1, 1, 1, 0, 0),\n",
       " (0, 0, 0, 0, 0, 0, 0, 0, 1, 2, 1, 1, 1, 2, 1, 0, 0),\n",
       " (0, 0, 0, 0, 0, 0, 0, 0, 0, 0, 0, 0, 0, 0, 0, 0, 0),\n",
       " (0, 0, 0, 0, 0, 0, 0, 0, 0, 0, 0, 0, 0, 0, 0, 0, 0),\n",
       " (0, 0, 0, 0, 0, 0, 0, 0, 0, 0, 0, 0, 0, 0, 0, 0, 0),\n",
       " (0, 0, 0, 0, 0, 0, 0, 0, 0, 0, 0, 0, 0, 0, 0, 0, 0),\n",
       " (0, 0, 0, 0, 0, 0, 0, 0, 0, 0, 0, 0, 0, 0, 0, 0, 0),\n",
       " (0, 0, 0, 0, 0, 0, 0, 0, 0, 0, 0, 0, 0, 0, 0, 0, 0),\n",
       " (0, 0, 1, 1, 3, 1, 0, 0, 0, 0, 0, 0, 0, 0, 0, 0, 0),\n",
       " (0, 0, 1, 3, 1, 1, 0, 0, 0, 0, 0, 0, 0, 0, 0, 0, 0),\n",
       " (0, 0, 1, 1, 1, 1, 0, 0, 0, 0, 0, 0, 0, 0, 0, 0, 0),\n",
       " (0, 0, 1, 3, 1, 1, 0, 0, 0, 0, 0, 0, 0, 0, 0, 0, 0),\n",
       " (0, 0, 1, 1, 3, 1, 0, 0, 0, 0, 0, 0, 0, 0, 0, 0, 0),\n",
       " (0, 0, 0, 0, 0, 0, 0, 0, 0, 0, 0, 0, 0, 0, 0, 0, 0))"
      ]
     },
     "execution_count": 23,
     "metadata": {},
     "output_type": "execute_result"
    }
   ],
   "source": [
    "solve_e6721834(img)"
   ]
  },
  {
   "cell_type": "code",
   "execution_count": 24,
   "metadata": {},
   "outputs": [],
   "source": [
    "import ast\n",
    "import astpretty\n",
    "\n",
    "def generate_ast(code):\n",
    "    tree = ast.parse(code)\n",
    "    return tree\n",
    "\n",
    "def print_ast(tree):\n",
    "    astpretty.pprint(tree)"
   ]
  },
  {
   "cell_type": "code",
   "execution_count": 25,
   "metadata": {},
   "outputs": [],
   "source": [
    "txt = '''def vperiod(\n",
    "    obj: Object\n",
    ") -> Integer:\n",
    "    \"\"\" vertical periodicity \"\"\"\n",
    "    normalized = normalize(obj)\n",
    "    h = height(normalized)\n",
    "    for p in range(1, h):\n",
    "        offsetted = shift(normalized, (-p, 0))\n",
    "        pruned = frozenset({(c, (i, j)) for c, (i, j) in offsetted if i >= 0})\n",
    "        if pruned.issubset(normalized):\n",
    "            return p\n",
    "    return h'''"
   ]
  },
  {
   "cell_type": "code",
   "execution_count": 27,
   "metadata": {},
   "outputs": [
    {
     "name": "stdout",
     "output_type": "stream",
     "text": [
      "'def vperiod(\\n    obj: Object\\n) -> Integer:\\n    \"\"\" vertical periodicity \"\"\"\\n    normalized = normalize(obj)\\n    h = height(normalized)\\n    for p in range(1, h):\\n        offsetted = shift(normalized, (-p, 0))\\n        pruned = frozenset({(c, (i, j)) for c, (i, j) in offsetted if i >= 0})\\n        if pruned.issubset(normalized):\\n            return p\\n    return h'\n"
     ]
    }
   ],
   "source": [
    "print_ast(txt)"
   ]
  },
  {
   "cell_type": "code",
   "execution_count": null,
   "metadata": {},
   "outputs": [],
   "source": []
  },
  {
   "cell_type": "code",
   "execution_count": null,
   "metadata": {},
   "outputs": [],
   "source": []
  }
 ],
 "metadata": {
  "kernelspec": {
   "display_name": "Python 3 (ipykernel)",
   "language": "python",
   "name": "python3"
  },
  "language_info": {
   "codemirror_mode": {
    "name": "ipython",
    "version": 3
   },
   "file_extension": ".py",
   "mimetype": "text/x-python",
   "name": "python",
   "nbconvert_exporter": "python",
   "pygments_lexer": "ipython3",
<<<<<<< HEAD
   "version": "3.12.2"
=======
   "version": "3.11.0"
>>>>>>> 36a9afbeddaa9911d73b92f0bbbc9632ff2e523f
  }
 },
 "nbformat": 4,
 "nbformat_minor": 2
}
