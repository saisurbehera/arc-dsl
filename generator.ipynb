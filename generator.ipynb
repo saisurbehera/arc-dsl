{
 "cells": [
  {
   "cell_type": "code",
   "execution_count": 2,
   "metadata": {},
   "outputs": [],
   "source": [
    "from dsl import *\n",
    "from utils import * "
   ]
  },
  {
   "cell_type": "code",
   "execution_count": 3,
   "metadata": {},
   "outputs": [],
   "source": [
    "def generate_dbc1a6ce(diff_lb: float, diff_ub: float) -> dict:\n",
    "    dim_bounds = (3, 30)\n",
    "    colopts = remove(8, interval(0, 10, 1))\n",
    "    h = unifint(diff_lb, diff_ub, dim_bounds)\n",
    "    w = unifint(diff_lb, diff_ub, dim_bounds)\n",
    "    bgc = choice(colopts)\n",
    "    c = canvas(bgc, (h, w))\n",
    "    inds = totuple(asindices(c))\n",
    "    card_bounds = (0, max(1, (h * w) // 4))\n",
    "    num = unifint(diff_lb, diff_ub, card_bounds)\n",
    "    s = sample(inds, num)\n",
    "    fgcol = choice(remove(bgc, colopts))\n",
    "    gi = fill(c, fgcol, s)\n",
    "    resh = frozenset()\n",
    "    for x, r in enumerate(gi):\n",
    "        if r.count(fgcol) > 1:\n",
    "            resh = combine(resh, connect((x, r.index(fgcol)), (x, -1 + w - r[::-1].index(fgcol))))\n",
    "    go = fill(c, 8, resh)\n",
    "    resv = frozenset()\n",
    "    for x, r in enumerate(dmirror(gi)):\n",
    "        if r.count(fgcol) > 1:\n",
    "            resv = combine(resv, connect((x, r.index(fgcol)), (x, -1 + h - r[::-1].index(fgcol))))\n",
    "    go = dmirror(fill(dmirror(go), 8, resv))\n",
    "    go = fill(go, fgcol, s)\n",
    "    return {'input': gi, 'output': go}"
   ]
  },
  {
   "cell_type": "code",
   "execution_count": null,
   "metadata": {},
   "outputs": [],
   "source": [
    "def solve_dbc1a6ce(I):\n",
    "    x1 = ofcolor(I, ONE)\n",
    "    x2 = product(x1, x1)\n",
    "    x3 = fork(connect, first, last)\n",
    "    x4 = apply(x3, x2)\n",
    "    x5 = fork(either, vline, hline)\n",
    "    x6 = mfilter(x4, x5)\n",
    "    O = underfill(I, EIGHT, x6)\n",
    "    return O"
   ]
  },
  {
   "cell_type": "code",
   "execution_count": 5,
   "metadata": {},
   "outputs": [
    {
     "data": {
      "text/plain": [
       "{'input': ((0, 0, 0, 0, 0), (0, 0, 0, 0, 0), (0, 0, 0, 0, 0)),\n",
       " 'output': ((0, 0, 0, 0, 0), (0, 0, 0, 0, 0), (0, 0, 0, 0, 0))}"
      ]
     },
     "execution_count": 5,
     "metadata": {},
     "output_type": "execute_result"
    }
   ],
   "source": [
    "generate_dbc1a6ce(0,0.1)"
   ]
  },
  {
   "cell_type": "code",
   "execution_count": null,
   "metadata": {},
   "outputs": [],
   "source": []
  }
 ],
 "metadata": {
  "kernelspec": {
   "display_name": "base",
   "language": "python",
   "name": "python3"
  },
  "language_info": {
   "codemirror_mode": {
    "name": "ipython",
    "version": 3
   },
   "file_extension": ".py",
   "mimetype": "text/x-python",
   "name": "python",
   "nbconvert_exporter": "python",
   "pygments_lexer": "ipython3",
   "version": "3.12.2"
  }
 },
 "nbformat": 4,
 "nbformat_minor": 2
}
